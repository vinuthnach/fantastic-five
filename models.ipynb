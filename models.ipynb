{
 "cells": [
  {
   "cell_type": "code",
   "execution_count": 2,
   "metadata": {},
   "outputs": [],
   "source": [
    "import pandas as pd\n",
    "import numpy as np\n",
    "import seaborn as sns\n",
    "import matplotlib.pyplot as plt\n",
    "from sklearn.linear_model import LogisticRegression\n",
    "from sklearn.model_selection import train_test_split"
   ]
  },
  {
   "cell_type": "code",
   "execution_count": 3,
   "metadata": {},
   "outputs": [],
   "source": [
    "df = pd.read_csv(\"/Users/deepthitamma/Desktop/FFR_Data2.csv\")"
   ]
  },
  {
   "cell_type": "code",
   "execution_count": 4,
   "metadata": {},
   "outputs": [
    {
     "data": {
      "text/html": [
       "<div>\n",
       "<style scoped>\n",
       "    .dataframe tbody tr th:only-of-type {\n",
       "        vertical-align: middle;\n",
       "    }\n",
       "\n",
       "    .dataframe tbody tr th {\n",
       "        vertical-align: top;\n",
       "    }\n",
       "\n",
       "    .dataframe thead th {\n",
       "        text-align: right;\n",
       "    }\n",
       "</style>\n",
       "<table border=\"1\" class=\"dataframe\">\n",
       "  <thead>\n",
       "    <tr style=\"text-align: right;\">\n",
       "      <th></th>\n",
       "      <th>PatientID</th>\n",
       "      <th>PrimaryKey</th>\n",
       "      <th>ResponseUnitID</th>\n",
       "      <th>TransportUnitID</th>\n",
       "      <th>Location of the Incident</th>\n",
       "      <th>IncidentFirstDue</th>\n",
       "      <th>FinalIncidentType</th>\n",
       "      <th>UnitPrimaryActionTaken</th>\n",
       "      <th>UnitType</th>\n",
       "      <th>CallConfirmedDT</th>\n",
       "      <th>...</th>\n",
       "      <th>PrimaryImpression</th>\n",
       "      <th>LevelOfCare</th>\n",
       "      <th>Same Record</th>\n",
       "      <th>Time taken</th>\n",
       "      <th>Time taken (min)</th>\n",
       "      <th>Time(compliancy)</th>\n",
       "      <th>Hospital Compliancy</th>\n",
       "      <th>LOC Compliancy</th>\n",
       "      <th>Time RT</th>\n",
       "      <th>Compliancy</th>\n",
       "    </tr>\n",
       "  </thead>\n",
       "  <tbody>\n",
       "    <tr>\n",
       "      <th>0</th>\n",
       "      <td>640838</td>\n",
       "      <td>9.804015e+09</td>\n",
       "      <td>M401</td>\n",
       "      <td>M401</td>\n",
       "      <td>McLean</td>\n",
       "      <td>401.0</td>\n",
       "      <td>ALS</td>\n",
       "      <td>Provide advanced life support (ALS)</td>\n",
       "      <td>Medic</td>\n",
       "      <td>7/1/18 2:16</td>\n",
       "      <td>...</td>\n",
       "      <td>GastroIntestinal Tract</td>\n",
       "      <td>Level 3: 1 Provider (ALS Care)</td>\n",
       "      <td>1</td>\n",
       "      <td>0:19</td>\n",
       "      <td>19</td>\n",
       "      <td>1</td>\n",
       "      <td>1</td>\n",
       "      <td>1</td>\n",
       "      <td>0:50</td>\n",
       "      <td>1</td>\n",
       "    </tr>\n",
       "    <tr>\n",
       "      <th>1</th>\n",
       "      <td>641032</td>\n",
       "      <td>9.804016e+09</td>\n",
       "      <td>M401</td>\n",
       "      <td>M401</td>\n",
       "      <td>McLean</td>\n",
       "      <td>401.0</td>\n",
       "      <td>BLS</td>\n",
       "      <td>Provide advanced life support (ALS)</td>\n",
       "      <td>Medic</td>\n",
       "      <td>7/1/18 11:20</td>\n",
       "      <td>...</td>\n",
       "      <td>ENT issue</td>\n",
       "      <td>Level 4: 1 Provider (BLS Care)</td>\n",
       "      <td>1</td>\n",
       "      <td>0:11</td>\n",
       "      <td>11</td>\n",
       "      <td>1</td>\n",
       "      <td>1</td>\n",
       "      <td>1</td>\n",
       "      <td>0:35</td>\n",
       "      <td>1</td>\n",
       "    </tr>\n",
       "    <tr>\n",
       "      <th>2</th>\n",
       "      <td>641839</td>\n",
       "      <td>9.804019e+09</td>\n",
       "      <td>M401</td>\n",
       "      <td>M401</td>\n",
       "      <td>McLean</td>\n",
       "      <td>401.0</td>\n",
       "      <td>BLS</td>\n",
       "      <td>Provide advanced life support (ALS)</td>\n",
       "      <td>Medic</td>\n",
       "      <td>7/2/18 9:31</td>\n",
       "      <td>...</td>\n",
       "      <td>Injured at the incident</td>\n",
       "      <td>Level 4: 1 Provider (BLS Care)</td>\n",
       "      <td>1</td>\n",
       "      <td>0:14</td>\n",
       "      <td>14</td>\n",
       "      <td>1</td>\n",
       "      <td>1</td>\n",
       "      <td>1</td>\n",
       "      <td>0:37</td>\n",
       "      <td>1</td>\n",
       "    </tr>\n",
       "    <tr>\n",
       "      <th>3</th>\n",
       "      <td>641959</td>\n",
       "      <td>9.804019e+09</td>\n",
       "      <td>M401</td>\n",
       "      <td>M401</td>\n",
       "      <td>McLean</td>\n",
       "      <td>401.0</td>\n",
       "      <td>BLS</td>\n",
       "      <td>Transport person</td>\n",
       "      <td>Medic</td>\n",
       "      <td>7/2/18 11:19</td>\n",
       "      <td>...</td>\n",
       "      <td>Injured at the incident</td>\n",
       "      <td>Level 4: 1 Provider (BLS Care)</td>\n",
       "      <td>1</td>\n",
       "      <td>0:27</td>\n",
       "      <td>27</td>\n",
       "      <td>1</td>\n",
       "      <td>1</td>\n",
       "      <td>1</td>\n",
       "      <td>0:49</td>\n",
       "      <td>1</td>\n",
       "    </tr>\n",
       "    <tr>\n",
       "      <th>4</th>\n",
       "      <td>642086</td>\n",
       "      <td>9.804019e+09</td>\n",
       "      <td>M401</td>\n",
       "      <td>M401</td>\n",
       "      <td>McLean</td>\n",
       "      <td>401.0</td>\n",
       "      <td>ALS</td>\n",
       "      <td>Transport person</td>\n",
       "      <td>Medic</td>\n",
       "      <td>7/2/18 13:56</td>\n",
       "      <td>...</td>\n",
       "      <td>Neuro issue</td>\n",
       "      <td>Level 3: 1 Provider (ALS Care)</td>\n",
       "      <td>1</td>\n",
       "      <td>0:12</td>\n",
       "      <td>12</td>\n",
       "      <td>1</td>\n",
       "      <td>1</td>\n",
       "      <td>1</td>\n",
       "      <td>0:37</td>\n",
       "      <td>1</td>\n",
       "    </tr>\n",
       "  </tbody>\n",
       "</table>\n",
       "<p>5 rows × 28 columns</p>\n",
       "</div>"
      ],
      "text/plain": [
       "   PatientID    PrimaryKey ResponseUnitID TransportUnitID  \\\n",
       "0     640838  9.804015e+09           M401            M401   \n",
       "1     641032  9.804016e+09           M401            M401   \n",
       "2     641839  9.804019e+09           M401            M401   \n",
       "3     641959  9.804019e+09           M401            M401   \n",
       "4     642086  9.804019e+09           M401            M401   \n",
       "\n",
       "  Location of the Incident  IncidentFirstDue FinalIncidentType  \\\n",
       "0                   McLean             401.0               ALS   \n",
       "1                   McLean             401.0               BLS   \n",
       "2                   McLean             401.0               BLS   \n",
       "3                   McLean             401.0               BLS   \n",
       "4                   McLean             401.0               ALS   \n",
       "\n",
       "                UnitPrimaryActionTaken UnitType CallConfirmedDT  ...  \\\n",
       "0  Provide advanced life support (ALS)    Medic     7/1/18 2:16  ...   \n",
       "1  Provide advanced life support (ALS)    Medic    7/1/18 11:20  ...   \n",
       "2  Provide advanced life support (ALS)    Medic     7/2/18 9:31  ...   \n",
       "3                     Transport person    Medic    7/2/18 11:19  ...   \n",
       "4                     Transport person    Medic    7/2/18 13:56  ...   \n",
       "\n",
       "         PrimaryImpression                     LevelOfCare  Same Record  \\\n",
       "0   GastroIntestinal Tract  Level 3: 1 Provider (ALS Care)            1   \n",
       "1                ENT issue  Level 4: 1 Provider (BLS Care)            1   \n",
       "2  Injured at the incident  Level 4: 1 Provider (BLS Care)            1   \n",
       "3  Injured at the incident  Level 4: 1 Provider (BLS Care)            1   \n",
       "4              Neuro issue  Level 3: 1 Provider (ALS Care)            1   \n",
       "\n",
       "  Time taken Time taken (min)  Time(compliancy) Hospital Compliancy  \\\n",
       "0       0:19               19                 1                   1   \n",
       "1       0:11               11                 1                   1   \n",
       "2       0:14               14                 1                   1   \n",
       "3       0:27               27                 1                   1   \n",
       "4       0:12               12                 1                   1   \n",
       "\n",
       "  LOC Compliancy Time RT Compliancy  \n",
       "0              1    0:50          1  \n",
       "1              1    0:35          1  \n",
       "2              1    0:37          1  \n",
       "3              1    0:49          1  \n",
       "4              1    0:37          1  \n",
       "\n",
       "[5 rows x 28 columns]"
      ]
     },
     "execution_count": 4,
     "metadata": {},
     "output_type": "execute_result"
    }
   ],
   "source": [
    "df.head(5)"
   ]
  },
  {
   "cell_type": "code",
   "execution_count": 5,
   "metadata": {},
   "outputs": [
    {
     "data": {
      "text/html": [
       "<div>\n",
       "<style scoped>\n",
       "    .dataframe tbody tr th:only-of-type {\n",
       "        vertical-align: middle;\n",
       "    }\n",
       "\n",
       "    .dataframe tbody tr th {\n",
       "        vertical-align: top;\n",
       "    }\n",
       "\n",
       "    .dataframe thead th {\n",
       "        text-align: right;\n",
       "    }\n",
       "</style>\n",
       "<table border=\"1\" class=\"dataframe\">\n",
       "  <thead>\n",
       "    <tr style=\"text-align: right;\">\n",
       "      <th></th>\n",
       "      <th>PatientID</th>\n",
       "      <th>PrimaryKey</th>\n",
       "      <th>IncidentFirstDue</th>\n",
       "      <th>UnitStation</th>\n",
       "      <th>TransportHospitalCode</th>\n",
       "      <th>Same Record</th>\n",
       "      <th>Time taken (min)</th>\n",
       "      <th>Time(compliancy)</th>\n",
       "      <th>Hospital Compliancy</th>\n",
       "      <th>LOC Compliancy</th>\n",
       "      <th>Compliancy</th>\n",
       "    </tr>\n",
       "  </thead>\n",
       "  <tbody>\n",
       "    <tr>\n",
       "      <th>PatientID</th>\n",
       "      <td>1.000000</td>\n",
       "      <td>0.983964</td>\n",
       "      <td>-0.003447</td>\n",
       "      <td>-0.002758</td>\n",
       "      <td>0.024057</td>\n",
       "      <td>NaN</td>\n",
       "      <td>-0.034203</td>\n",
       "      <td>0.003015</td>\n",
       "      <td>-0.010061</td>\n",
       "      <td>-0.019277</td>\n",
       "      <td>-0.021500</td>\n",
       "    </tr>\n",
       "    <tr>\n",
       "      <th>PrimaryKey</th>\n",
       "      <td>0.983964</td>\n",
       "      <td>1.000000</td>\n",
       "      <td>-0.003266</td>\n",
       "      <td>-0.002335</td>\n",
       "      <td>0.023688</td>\n",
       "      <td>NaN</td>\n",
       "      <td>-0.033236</td>\n",
       "      <td>0.002915</td>\n",
       "      <td>-0.010189</td>\n",
       "      <td>-0.019293</td>\n",
       "      <td>-0.021588</td>\n",
       "    </tr>\n",
       "    <tr>\n",
       "      <th>IncidentFirstDue</th>\n",
       "      <td>-0.003447</td>\n",
       "      <td>-0.003266</td>\n",
       "      <td>1.000000</td>\n",
       "      <td>0.701937</td>\n",
       "      <td>0.059028</td>\n",
       "      <td>NaN</td>\n",
       "      <td>0.071888</td>\n",
       "      <td>0.000079</td>\n",
       "      <td>-0.015870</td>\n",
       "      <td>-0.005894</td>\n",
       "      <td>-0.014552</td>\n",
       "    </tr>\n",
       "    <tr>\n",
       "      <th>UnitStation</th>\n",
       "      <td>-0.002758</td>\n",
       "      <td>-0.002335</td>\n",
       "      <td>0.701937</td>\n",
       "      <td>1.000000</td>\n",
       "      <td>0.084361</td>\n",
       "      <td>NaN</td>\n",
       "      <td>0.069876</td>\n",
       "      <td>-0.003995</td>\n",
       "      <td>-0.028019</td>\n",
       "      <td>-0.007951</td>\n",
       "      <td>-0.023753</td>\n",
       "    </tr>\n",
       "    <tr>\n",
       "      <th>TransportHospitalCode</th>\n",
       "      <td>0.024057</td>\n",
       "      <td>0.023688</td>\n",
       "      <td>0.059028</td>\n",
       "      <td>0.084361</td>\n",
       "      <td>1.000000</td>\n",
       "      <td>NaN</td>\n",
       "      <td>-0.080993</td>\n",
       "      <td>-0.024470</td>\n",
       "      <td>0.000652</td>\n",
       "      <td>0.010373</td>\n",
       "      <td>0.006623</td>\n",
       "    </tr>\n",
       "    <tr>\n",
       "      <th>Same Record</th>\n",
       "      <td>NaN</td>\n",
       "      <td>NaN</td>\n",
       "      <td>NaN</td>\n",
       "      <td>NaN</td>\n",
       "      <td>NaN</td>\n",
       "      <td>NaN</td>\n",
       "      <td>NaN</td>\n",
       "      <td>NaN</td>\n",
       "      <td>NaN</td>\n",
       "      <td>NaN</td>\n",
       "      <td>NaN</td>\n",
       "    </tr>\n",
       "    <tr>\n",
       "      <th>Time taken (min)</th>\n",
       "      <td>-0.034203</td>\n",
       "      <td>-0.033236</td>\n",
       "      <td>0.071888</td>\n",
       "      <td>0.069876</td>\n",
       "      <td>-0.080993</td>\n",
       "      <td>NaN</td>\n",
       "      <td>1.000000</td>\n",
       "      <td>0.004781</td>\n",
       "      <td>-0.072809</td>\n",
       "      <td>0.024763</td>\n",
       "      <td>-0.026662</td>\n",
       "    </tr>\n",
       "    <tr>\n",
       "      <th>Time(compliancy)</th>\n",
       "      <td>0.003015</td>\n",
       "      <td>0.002915</td>\n",
       "      <td>0.000079</td>\n",
       "      <td>-0.003995</td>\n",
       "      <td>-0.024470</td>\n",
       "      <td>NaN</td>\n",
       "      <td>0.004781</td>\n",
       "      <td>1.000000</td>\n",
       "      <td>0.000402</td>\n",
       "      <td>-0.001101</td>\n",
       "      <td>0.056717</td>\n",
       "    </tr>\n",
       "    <tr>\n",
       "      <th>Hospital Compliancy</th>\n",
       "      <td>-0.010061</td>\n",
       "      <td>-0.010189</td>\n",
       "      <td>-0.015870</td>\n",
       "      <td>-0.028019</td>\n",
       "      <td>0.000652</td>\n",
       "      <td>NaN</td>\n",
       "      <td>-0.072809</td>\n",
       "      <td>0.000402</td>\n",
       "      <td>1.000000</td>\n",
       "      <td>0.018860</td>\n",
       "      <td>0.631535</td>\n",
       "    </tr>\n",
       "    <tr>\n",
       "      <th>LOC Compliancy</th>\n",
       "      <td>-0.019277</td>\n",
       "      <td>-0.019293</td>\n",
       "      <td>-0.005894</td>\n",
       "      <td>-0.007951</td>\n",
       "      <td>0.010373</td>\n",
       "      <td>NaN</td>\n",
       "      <td>0.024763</td>\n",
       "      <td>-0.001101</td>\n",
       "      <td>0.018860</td>\n",
       "      <td>1.000000</td>\n",
       "      <td>0.762831</td>\n",
       "    </tr>\n",
       "    <tr>\n",
       "      <th>Compliancy</th>\n",
       "      <td>-0.021500</td>\n",
       "      <td>-0.021588</td>\n",
       "      <td>-0.014552</td>\n",
       "      <td>-0.023753</td>\n",
       "      <td>0.006623</td>\n",
       "      <td>NaN</td>\n",
       "      <td>-0.026662</td>\n",
       "      <td>0.056717</td>\n",
       "      <td>0.631535</td>\n",
       "      <td>0.762831</td>\n",
       "      <td>1.000000</td>\n",
       "    </tr>\n",
       "  </tbody>\n",
       "</table>\n",
       "</div>"
      ],
      "text/plain": [
       "                       PatientID  PrimaryKey  IncidentFirstDue  UnitStation  \\\n",
       "PatientID               1.000000    0.983964         -0.003447    -0.002758   \n",
       "PrimaryKey              0.983964    1.000000         -0.003266    -0.002335   \n",
       "IncidentFirstDue       -0.003447   -0.003266          1.000000     0.701937   \n",
       "UnitStation            -0.002758   -0.002335          0.701937     1.000000   \n",
       "TransportHospitalCode   0.024057    0.023688          0.059028     0.084361   \n",
       "Same Record                  NaN         NaN               NaN          NaN   \n",
       "Time taken (min)       -0.034203   -0.033236          0.071888     0.069876   \n",
       "Time(compliancy)        0.003015    0.002915          0.000079    -0.003995   \n",
       "Hospital Compliancy    -0.010061   -0.010189         -0.015870    -0.028019   \n",
       "LOC Compliancy         -0.019277   -0.019293         -0.005894    -0.007951   \n",
       "Compliancy             -0.021500   -0.021588         -0.014552    -0.023753   \n",
       "\n",
       "                       TransportHospitalCode  Same Record  Time taken (min)  \\\n",
       "PatientID                           0.024057          NaN         -0.034203   \n",
       "PrimaryKey                          0.023688          NaN         -0.033236   \n",
       "IncidentFirstDue                    0.059028          NaN          0.071888   \n",
       "UnitStation                         0.084361          NaN          0.069876   \n",
       "TransportHospitalCode               1.000000          NaN         -0.080993   \n",
       "Same Record                              NaN          NaN               NaN   \n",
       "Time taken (min)                   -0.080993          NaN          1.000000   \n",
       "Time(compliancy)                   -0.024470          NaN          0.004781   \n",
       "Hospital Compliancy                 0.000652          NaN         -0.072809   \n",
       "LOC Compliancy                      0.010373          NaN          0.024763   \n",
       "Compliancy                          0.006623          NaN         -0.026662   \n",
       "\n",
       "                       Time(compliancy)  Hospital Compliancy  LOC Compliancy  \\\n",
       "PatientID                      0.003015            -0.010061       -0.019277   \n",
       "PrimaryKey                     0.002915            -0.010189       -0.019293   \n",
       "IncidentFirstDue               0.000079            -0.015870       -0.005894   \n",
       "UnitStation                   -0.003995            -0.028019       -0.007951   \n",
       "TransportHospitalCode         -0.024470             0.000652        0.010373   \n",
       "Same Record                         NaN                  NaN             NaN   \n",
       "Time taken (min)               0.004781            -0.072809        0.024763   \n",
       "Time(compliancy)               1.000000             0.000402       -0.001101   \n",
       "Hospital Compliancy            0.000402             1.000000        0.018860   \n",
       "LOC Compliancy                -0.001101             0.018860        1.000000   \n",
       "Compliancy                     0.056717             0.631535        0.762831   \n",
       "\n",
       "                       Compliancy  \n",
       "PatientID               -0.021500  \n",
       "PrimaryKey              -0.021588  \n",
       "IncidentFirstDue        -0.014552  \n",
       "UnitStation             -0.023753  \n",
       "TransportHospitalCode    0.006623  \n",
       "Same Record                   NaN  \n",
       "Time taken (min)        -0.026662  \n",
       "Time(compliancy)         0.056717  \n",
       "Hospital Compliancy      0.631535  \n",
       "LOC Compliancy           0.762831  \n",
       "Compliancy               1.000000  "
      ]
     },
     "execution_count": 5,
     "metadata": {},
     "output_type": "execute_result"
    }
   ],
   "source": [
    "df.corr()"
   ]
  },
  {
   "cell_type": "code",
   "execution_count": 6,
   "metadata": {},
   "outputs": [
    {
     "data": {
      "image/png": "[encoded data removed]",
      "text/plain": [
       "<Figure size 432x288 with 2 Axes>"
      ]
     },
     "metadata": {},
     "output_type": "display_data"
    }
   ],
   "source": [
    "sns.heatmap(df.corr());"
   ]
  },
  {
   "cell_type": "code",
   "execution_count": 7,
   "metadata": {},
   "outputs": [],
   "source": [
    "del df['Same Record']"
   ]
  },
  {
   "cell_type": "code",
   "execution_count": 8,
   "metadata": {},
   "outputs": [],
   "source": [
    "del df['Time(compliancy)']"
   ]
  },
  {
   "cell_type": "code",
   "execution_count": 9,
   "metadata": {},
   "outputs": [],
   "source": [
    "df.rename(columns = {'LOC Compliancy':'LOC_Compliancy'}, inplace = True)"
   ]
  },
  {
   "cell_type": "code",
   "execution_count": 10,
   "metadata": {},
   "outputs": [],
   "source": [
    "df.rename(columns = {'Hospital Compliancy':'Hospital_Compliancy'}, inplace = True)"
   ]
  },
  {
   "cell_type": "code",
   "execution_count": 11,
   "metadata": {},
   "outputs": [
    {
     "data": {
      "text/html": [
       "<div>\n",
       "<style scoped>\n",
       "    .dataframe tbody tr th:only-of-type {\n",
       "        vertical-align: middle;\n",
       "    }\n",
       "\n",
       "    .dataframe tbody tr th {\n",
       "        vertical-align: top;\n",
       "    }\n",
       "\n",
       "    .dataframe thead th {\n",
       "        text-align: right;\n",
       "    }\n",
       "</style>\n",
       "<table border=\"1\" class=\"dataframe\">\n",
       "  <thead>\n",
       "    <tr style=\"text-align: right;\">\n",
       "      <th></th>\n",
       "      <th>PatientID</th>\n",
       "      <th>PrimaryKey</th>\n",
       "      <th>ResponseUnitID</th>\n",
       "      <th>TransportUnitID</th>\n",
       "      <th>Location of the Incident</th>\n",
       "      <th>IncidentFirstDue</th>\n",
       "      <th>FinalIncidentType</th>\n",
       "      <th>UnitPrimaryActionTaken</th>\n",
       "      <th>UnitType</th>\n",
       "      <th>CallConfirmedDT</th>\n",
       "      <th>...</th>\n",
       "      <th>TransportHospitalName</th>\n",
       "      <th>PatientAge</th>\n",
       "      <th>PrimaryImpression</th>\n",
       "      <th>LevelOfCare</th>\n",
       "      <th>Time taken</th>\n",
       "      <th>Time taken (min)</th>\n",
       "      <th>Hospital_Compliancy</th>\n",
       "      <th>LOC_Compliancy</th>\n",
       "      <th>Time RT</th>\n",
       "      <th>Compliancy</th>\n",
       "    </tr>\n",
       "  </thead>\n",
       "  <tbody>\n",
       "    <tr>\n",
       "      <th>0</th>\n",
       "      <td>640838</td>\n",
       "      <td>9.804015e+09</td>\n",
       "      <td>M401</td>\n",
       "      <td>M401</td>\n",
       "      <td>McLean</td>\n",
       "      <td>401.0</td>\n",
       "      <td>ALS</td>\n",
       "      <td>Provide advanced life support (ALS)</td>\n",
       "      <td>Medic</td>\n",
       "      <td>7/1/18 2:16</td>\n",
       "      <td>...</td>\n",
       "      <td>Virginia Hospital Center</td>\n",
       "      <td>80 - 89</td>\n",
       "      <td>GastroIntestinal Tract</td>\n",
       "      <td>Level 3: 1 Provider (ALS Care)</td>\n",
       "      <td>0:19</td>\n",
       "      <td>19</td>\n",
       "      <td>1</td>\n",
       "      <td>1</td>\n",
       "      <td>0:50</td>\n",
       "      <td>1</td>\n",
       "    </tr>\n",
       "    <tr>\n",
       "      <th>1</th>\n",
       "      <td>641032</td>\n",
       "      <td>9.804016e+09</td>\n",
       "      <td>M401</td>\n",
       "      <td>M401</td>\n",
       "      <td>McLean</td>\n",
       "      <td>401.0</td>\n",
       "      <td>BLS</td>\n",
       "      <td>Provide advanced life support (ALS)</td>\n",
       "      <td>Medic</td>\n",
       "      <td>7/1/18 11:20</td>\n",
       "      <td>...</td>\n",
       "      <td>Virginia Hospital Center</td>\n",
       "      <td>80 - 89</td>\n",
       "      <td>ENT issue</td>\n",
       "      <td>Level 4: 1 Provider (BLS Care)</td>\n",
       "      <td>0:11</td>\n",
       "      <td>11</td>\n",
       "      <td>1</td>\n",
       "      <td>1</td>\n",
       "      <td>0:35</td>\n",
       "      <td>1</td>\n",
       "    </tr>\n",
       "    <tr>\n",
       "      <th>2</th>\n",
       "      <td>641839</td>\n",
       "      <td>9.804019e+09</td>\n",
       "      <td>M401</td>\n",
       "      <td>M401</td>\n",
       "      <td>McLean</td>\n",
       "      <td>401.0</td>\n",
       "      <td>BLS</td>\n",
       "      <td>Provide advanced life support (ALS)</td>\n",
       "      <td>Medic</td>\n",
       "      <td>7/2/18 9:31</td>\n",
       "      <td>...</td>\n",
       "      <td>Inova Fairfax Hospital Falls Church</td>\n",
       "      <td>40 - 49</td>\n",
       "      <td>Injured at the incident</td>\n",
       "      <td>Level 4: 1 Provider (BLS Care)</td>\n",
       "      <td>0:14</td>\n",
       "      <td>14</td>\n",
       "      <td>1</td>\n",
       "      <td>1</td>\n",
       "      <td>0:37</td>\n",
       "      <td>1</td>\n",
       "    </tr>\n",
       "    <tr>\n",
       "      <th>3</th>\n",
       "      <td>641959</td>\n",
       "      <td>9.804019e+09</td>\n",
       "      <td>M401</td>\n",
       "      <td>M401</td>\n",
       "      <td>McLean</td>\n",
       "      <td>401.0</td>\n",
       "      <td>BLS</td>\n",
       "      <td>Transport person</td>\n",
       "      <td>Medic</td>\n",
       "      <td>7/2/18 11:19</td>\n",
       "      <td>...</td>\n",
       "      <td>Virginia Hospital Center</td>\n",
       "      <td>80 - 89</td>\n",
       "      <td>Injured at the incident</td>\n",
       "      <td>Level 4: 1 Provider (BLS Care)</td>\n",
       "      <td>0:27</td>\n",
       "      <td>27</td>\n",
       "      <td>1</td>\n",
       "      <td>1</td>\n",
       "      <td>0:49</td>\n",
       "      <td>1</td>\n",
       "    </tr>\n",
       "    <tr>\n",
       "      <th>4</th>\n",
       "      <td>642086</td>\n",
       "      <td>9.804019e+09</td>\n",
       "      <td>M401</td>\n",
       "      <td>M401</td>\n",
       "      <td>McLean</td>\n",
       "      <td>401.0</td>\n",
       "      <td>ALS</td>\n",
       "      <td>Transport person</td>\n",
       "      <td>Medic</td>\n",
       "      <td>7/2/18 13:56</td>\n",
       "      <td>...</td>\n",
       "      <td>Virginia Hospital Center</td>\n",
       "      <td>20 - 29</td>\n",
       "      <td>Neuro issue</td>\n",
       "      <td>Level 3: 1 Provider (ALS Care)</td>\n",
       "      <td>0:12</td>\n",
       "      <td>12</td>\n",
       "      <td>1</td>\n",
       "      <td>1</td>\n",
       "      <td>0:37</td>\n",
       "      <td>1</td>\n",
       "    </tr>\n",
       "  </tbody>\n",
       "</table>\n",
       "<p>5 rows × 26 columns</p>\n",
       "</div>"
      ],
      "text/plain": [
       "   PatientID    PrimaryKey ResponseUnitID TransportUnitID  \\\n",
       "0     640838  9.804015e+09           M401            M401   \n",
       "1     641032  9.804016e+09           M401            M401   \n",
       "2     641839  9.804019e+09           M401            M401   \n",
       "3     641959  9.804019e+09           M401            M401   \n",
       "4     642086  9.804019e+09           M401            M401   \n",
       "\n",
       "  Location of the Incident  IncidentFirstDue FinalIncidentType  \\\n",
       "0                   McLean             401.0               ALS   \n",
       "1                   McLean             401.0               BLS   \n",
       "2                   McLean             401.0               BLS   \n",
       "3                   McLean             401.0               BLS   \n",
       "4                   McLean             401.0               ALS   \n",
       "\n",
       "                UnitPrimaryActionTaken UnitType CallConfirmedDT  ...  \\\n",
       "0  Provide advanced life support (ALS)    Medic     7/1/18 2:16  ...   \n",
       "1  Provide advanced life support (ALS)    Medic    7/1/18 11:20  ...   \n",
       "2  Provide advanced life support (ALS)    Medic     7/2/18 9:31  ...   \n",
       "3                     Transport person    Medic    7/2/18 11:19  ...   \n",
       "4                     Transport person    Medic    7/2/18 13:56  ...   \n",
       "\n",
       "                 TransportHospitalName PatientAge        PrimaryImpression  \\\n",
       "0             Virginia Hospital Center    80 - 89   GastroIntestinal Tract   \n",
       "1             Virginia Hospital Center    80 - 89                ENT issue   \n",
       "2  Inova Fairfax Hospital Falls Church    40 - 49  Injured at the incident   \n",
       "3             Virginia Hospital Center    80 - 89  Injured at the incident   \n",
       "4             Virginia Hospital Center    20 - 29              Neuro issue   \n",
       "\n",
       "                      LevelOfCare Time taken  Time taken (min)  \\\n",
       "0  Level 3: 1 Provider (ALS Care)       0:19                19   \n",
       "1  Level 4: 1 Provider (BLS Care)       0:11                11   \n",
       "2  Level 4: 1 Provider (BLS Care)       0:14                14   \n",
       "3  Level 4: 1 Provider (BLS Care)       0:27                27   \n",
       "4  Level 3: 1 Provider (ALS Care)       0:12                12   \n",
       "\n",
       "  Hospital_Compliancy LOC_Compliancy Time RT Compliancy  \n",
       "0                   1              1    0:50          1  \n",
       "1                   1              1    0:35          1  \n",
       "2                   1              1    0:37          1  \n",
       "3                   1              1    0:49          1  \n",
       "4                   1              1    0:37          1  \n",
       "\n",
       "[5 rows x 26 columns]"
      ]
     },
     "execution_count": 11,
     "metadata": {},
     "output_type": "execute_result"
    }
   ],
   "source": [
    "df.head(5)"
   ]
  },
  {
   "cell_type": "code",
   "execution_count": 12,
   "metadata": {},
   "outputs": [
    {
     "data": {
      "text/plain": [
       "Index(['PatientID', 'PrimaryKey', 'ResponseUnitID', 'TransportUnitID',\n",
       "       'Location of the Incident', 'IncidentFirstDue', 'FinalIncidentType',\n",
       "       'UnitPrimaryActionTaken', 'UnitType', 'CallConfirmedDT',\n",
       "       'UnitTransportedDT', 'UnitTransportedArrivalDT', 'UnitStation',\n",
       "       'ShiftDay', 'ReasonForChoosing', 'TransportHospitalCode',\n",
       "       'TransportHospitalName', 'PatientAge', 'PrimaryImpression',\n",
       "       'LevelOfCare', 'Time taken', 'Time taken (min)', 'Hospital_Compliancy',\n",
       "       'LOC_Compliancy', 'Time RT', 'Compliancy'],\n",
       "      dtype='object')"
      ]
     },
     "execution_count": 12,
     "metadata": {},
     "output_type": "execute_result"
    }
   ],
   "source": [
    "df.columns"
   ]
  },
  {
   "cell_type": "code",
   "execution_count": 13,
   "metadata": {},
   "outputs": [
    {
     "data": {
      "text/html": [
       "<div>\n",
       "<style scoped>\n",
       "    .dataframe tbody tr th:only-of-type {\n",
       "        vertical-align: middle;\n",
       "    }\n",
       "\n",
       "    .dataframe tbody tr th {\n",
       "        vertical-align: top;\n",
       "    }\n",
       "\n",
       "    .dataframe thead th {\n",
       "        text-align: right;\n",
       "    }\n",
       "</style>\n",
       "<table border=\"1\" class=\"dataframe\">\n",
       "  <thead>\n",
       "    <tr style=\"text-align: right;\">\n",
       "      <th></th>\n",
       "      <th>PatientID</th>\n",
       "      <th>PrimaryKey</th>\n",
       "      <th>IncidentFirstDue</th>\n",
       "      <th>UnitStation</th>\n",
       "      <th>TransportHospitalCode</th>\n",
       "      <th>Time taken (min)</th>\n",
       "      <th>Hospital_Compliancy</th>\n",
       "      <th>LOC_Compliancy</th>\n",
       "      <th>Compliancy</th>\n",
       "    </tr>\n",
       "  </thead>\n",
       "  <tbody>\n",
       "    <tr>\n",
       "      <th>PatientID</th>\n",
       "      <td>1.000000</td>\n",
       "      <td>0.983964</td>\n",
       "      <td>-0.003447</td>\n",
       "      <td>-0.002758</td>\n",
       "      <td>0.024057</td>\n",
       "      <td>-0.034203</td>\n",
       "      <td>-0.010061</td>\n",
       "      <td>-0.019277</td>\n",
       "      <td>-0.021500</td>\n",
       "    </tr>\n",
       "    <tr>\n",
       "      <th>PrimaryKey</th>\n",
       "      <td>0.983964</td>\n",
       "      <td>1.000000</td>\n",
       "      <td>-0.003266</td>\n",
       "      <td>-0.002335</td>\n",
       "      <td>0.023688</td>\n",
       "      <td>-0.033236</td>\n",
       "      <td>-0.010189</td>\n",
       "      <td>-0.019293</td>\n",
       "      <td>-0.021588</td>\n",
       "    </tr>\n",
       "    <tr>\n",
       "      <th>IncidentFirstDue</th>\n",
       "      <td>-0.003447</td>\n",
       "      <td>-0.003266</td>\n",
       "      <td>1.000000</td>\n",
       "      <td>0.701937</td>\n",
       "      <td>0.059028</td>\n",
       "      <td>0.071888</td>\n",
       "      <td>-0.015870</td>\n",
       "      <td>-0.005894</td>\n",
       "      <td>-0.014552</td>\n",
       "    </tr>\n",
       "    <tr>\n",
       "      <th>UnitStation</th>\n",
       "      <td>-0.002758</td>\n",
       "      <td>-0.002335</td>\n",
       "      <td>0.701937</td>\n",
       "      <td>1.000000</td>\n",
       "      <td>0.084361</td>\n",
       "      <td>0.069876</td>\n",
       "      <td>-0.028019</td>\n",
       "      <td>-0.007951</td>\n",
       "      <td>-0.023753</td>\n",
       "    </tr>\n",
       "    <tr>\n",
       "      <th>TransportHospitalCode</th>\n",
       "      <td>0.024057</td>\n",
       "      <td>0.023688</td>\n",
       "      <td>0.059028</td>\n",
       "      <td>0.084361</td>\n",
       "      <td>1.000000</td>\n",
       "      <td>-0.080993</td>\n",
       "      <td>0.000652</td>\n",
       "      <td>0.010373</td>\n",
       "      <td>0.006623</td>\n",
       "    </tr>\n",
       "    <tr>\n",
       "      <th>Time taken (min)</th>\n",
       "      <td>-0.034203</td>\n",
       "      <td>-0.033236</td>\n",
       "      <td>0.071888</td>\n",
       "      <td>0.069876</td>\n",
       "      <td>-0.080993</td>\n",
       "      <td>1.000000</td>\n",
       "      <td>-0.072809</td>\n",
       "      <td>0.024763</td>\n",
       "      <td>-0.026662</td>\n",
       "    </tr>\n",
       "    <tr>\n",
       "      <th>Hospital_Compliancy</th>\n",
       "      <td>-0.010061</td>\n",
       "      <td>-0.010189</td>\n",
       "      <td>-0.015870</td>\n",
       "      <td>-0.028019</td>\n",
       "      <td>0.000652</td>\n",
       "      <td>-0.072809</td>\n",
       "      <td>1.000000</td>\n",
       "      <td>0.018860</td>\n",
       "      <td>0.631535</td>\n",
       "    </tr>\n",
       "    <tr>\n",
       "      <th>LOC_Compliancy</th>\n",
       "      <td>-0.019277</td>\n",
       "      <td>-0.019293</td>\n",
       "      <td>-0.005894</td>\n",
       "      <td>-0.007951</td>\n",
       "      <td>0.010373</td>\n",
       "      <td>0.024763</td>\n",
       "      <td>0.018860</td>\n",
       "      <td>1.000000</td>\n",
       "      <td>0.762831</td>\n",
       "    </tr>\n",
       "    <tr>\n",
       "      <th>Compliancy</th>\n",
       "      <td>-0.021500</td>\n",
       "      <td>-0.021588</td>\n",
       "      <td>-0.014552</td>\n",
       "      <td>-0.023753</td>\n",
       "      <td>0.006623</td>\n",
       "      <td>-0.026662</td>\n",
       "      <td>0.631535</td>\n",
       "      <td>0.762831</td>\n",
       "      <td>1.000000</td>\n",
       "    </tr>\n",
       "  </tbody>\n",
       "</table>\n",
       "</div>"
      ],
      "text/plain": [
       "                       PatientID  PrimaryKey  IncidentFirstDue  UnitStation  \\\n",
       "PatientID               1.000000    0.983964         -0.003447    -0.002758   \n",
       "PrimaryKey              0.983964    1.000000         -0.003266    -0.002335   \n",
       "IncidentFirstDue       -0.003447   -0.003266          1.000000     0.701937   \n",
       "UnitStation            -0.002758   -0.002335          0.701937     1.000000   \n",
       "TransportHospitalCode   0.024057    0.023688          0.059028     0.084361   \n",
       "Time taken (min)       -0.034203   -0.033236          0.071888     0.069876   \n",
       "Hospital_Compliancy    -0.010061   -0.010189         -0.015870    -0.028019   \n",
       "LOC_Compliancy         -0.019277   -0.019293         -0.005894    -0.007951   \n",
       "Compliancy             -0.021500   -0.021588         -0.014552    -0.023753   \n",
       "\n",
       "                       TransportHospitalCode  Time taken (min)  \\\n",
       "PatientID                           0.024057         -0.034203   \n",
       "PrimaryKey                          0.023688         -0.033236   \n",
       "IncidentFirstDue                    0.059028          0.071888   \n",
       "UnitStation                         0.084361          0.069876   \n",
       "TransportHospitalCode               1.000000         -0.080993   \n",
       "Time taken (min)                   -0.080993          1.000000   \n",
       "Hospital_Compliancy                 0.000652         -0.072809   \n",
       "LOC_Compliancy                      0.010373          0.024763   \n",
       "Compliancy                          0.006623         -0.026662   \n",
       "\n",
       "                       Hospital_Compliancy  LOC_Compliancy  Compliancy  \n",
       "PatientID                        -0.010061       -0.019277   -0.021500  \n",
       "PrimaryKey                       -0.010189       -0.019293   -0.021588  \n",
       "IncidentFirstDue                 -0.015870       -0.005894   -0.014552  \n",
       "UnitStation                      -0.028019       -0.007951   -0.023753  \n",
       "TransportHospitalCode             0.000652        0.010373    0.006623  \n",
       "Time taken (min)                 -0.072809        0.024763   -0.026662  \n",
       "Hospital_Compliancy               1.000000        0.018860    0.631535  \n",
       "LOC_Compliancy                    0.018860        1.000000    0.762831  \n",
       "Compliancy                        0.631535        0.762831    1.000000  "
      ]
     },
     "execution_count": 13,
     "metadata": {},
     "output_type": "execute_result"
    }
   ],
   "source": [
    "df.corr()"
   ]
  },
  {
   "cell_type": "code",
   "execution_count": 14,
   "metadata": {},
   "outputs": [
    {
     "data": {
      "image/png": "[encoded data removed]",
      "text/plain": [
       "<Figure size 432x288 with 2 Axes>"
      ]
     },
     "metadata": {},
     "output_type": "display_data"
    }
   ],
   "source": [
    "sns.heatmap(df.corr());"
   ]
  },
  {
   "cell_type": "code",
   "execution_count": 15,
   "metadata": {},
   "outputs": [
    {
     "data": {
      "text/plain": [
       "1    113676\n",
       "0      7311\n",
       "Name: LOC_Compliancy, dtype: int64"
      ]
     },
     "execution_count": 15,
     "metadata": {},
     "output_type": "execute_result"
    }
   ],
   "source": [
    "df['LOC_Compliancy'].value_counts()"
   ]
  },
  {
   "cell_type": "code",
   "execution_count": 16,
   "metadata": {},
   "outputs": [
    {
     "data": {
      "image/png": "[encoded data removed]",
      "text/plain": [
       "<Figure size 432x288 with 1 Axes>"
      ]
     },
     "metadata": {},
     "output_type": "display_data"
    },
    {
     "data": {
      "text/plain": [
       "<Figure size 432x288 with 0 Axes>"
      ]
     },
     "metadata": {},
     "output_type": "display_data"
    }
   ],
   "source": [
    "sns.countplot(x = 'LOC_Compliancy', data = df)\n",
    "plt.show()\n",
    "plt.savefig('count_plot')"
   ]
  },
  {
   "cell_type": "code",
   "execution_count": 17,
   "metadata": {},
   "outputs": [
    {
     "name": "stdout",
     "output_type": "stream",
     "text": [
      "percentage of count compliant is 93.95720201343946\n",
      "percentage of non compliant 6.042797986560539\n"
     ]
    }
   ],
   "source": [
    "count_non_compliant = len(df[df['LOC_Compliancy']==0])\n",
    "count_compliant = len(df[df['LOC_Compliancy']==1])\n",
    "pct_of_non_compliant = count_compliant/(count_compliant+count_non_compliant)\n",
    "print(\"percentage of count compliant is\", pct_of_non_compliant*100)\n",
    "pct_of_compliant = count_non_compliant/(count_compliant+count_non_compliant)\n",
    "print(\"percentage of non compliant\", pct_of_compliant*100)"
   ]
  },
  {
   "cell_type": "code",
   "execution_count": 18,
   "metadata": {},
   "outputs": [
    {
     "data": {
      "text/html": [
       "<div>\n",
       "<style scoped>\n",
       "    .dataframe tbody tr th:only-of-type {\n",
       "        vertical-align: middle;\n",
       "    }\n",
       "\n",
       "    .dataframe tbody tr th {\n",
       "        vertical-align: top;\n",
       "    }\n",
       "\n",
       "    .dataframe thead th {\n",
       "        text-align: right;\n",
       "    }\n",
       "</style>\n",
       "<table border=\"1\" class=\"dataframe\">\n",
       "  <thead>\n",
       "    <tr style=\"text-align: right;\">\n",
       "      <th></th>\n",
       "      <th>PatientID</th>\n",
       "      <th>PrimaryKey</th>\n",
       "      <th>IncidentFirstDue</th>\n",
       "      <th>UnitStation</th>\n",
       "      <th>TransportHospitalCode</th>\n",
       "      <th>Time taken (min)</th>\n",
       "      <th>Hospital_Compliancy</th>\n",
       "      <th>Compliancy</th>\n",
       "    </tr>\n",
       "    <tr>\n",
       "      <th>LOC_Compliancy</th>\n",
       "      <th></th>\n",
       "      <th></th>\n",
       "      <th></th>\n",
       "      <th></th>\n",
       "      <th></th>\n",
       "      <th></th>\n",
       "      <th></th>\n",
       "      <th></th>\n",
       "    </tr>\n",
       "  </thead>\n",
       "  <tbody>\n",
       "    <tr>\n",
       "      <th>0</th>\n",
       "      <td>1.055869e+06</td>\n",
       "      <td>1.116486e+10</td>\n",
       "      <td>420.445083</td>\n",
       "      <td>20.520312</td>\n",
       "      <td>42.511558</td>\n",
       "      <td>11.462727</td>\n",
       "      <td>0.942826</td>\n",
       "      <td>0.000000</td>\n",
       "    </tr>\n",
       "    <tr>\n",
       "      <th>1</th>\n",
       "      <td>1.037254e+06</td>\n",
       "      <td>1.110422e+10</td>\n",
       "      <td>420.169547</td>\n",
       "      <td>20.147912</td>\n",
       "      <td>45.128382</td>\n",
       "      <td>12.158820</td>\n",
       "      <td>0.958742</td>\n",
       "      <td>0.958391</td>\n",
       "    </tr>\n",
       "  </tbody>\n",
       "</table>\n",
       "</div>"
      ],
      "text/plain": [
       "                   PatientID    PrimaryKey  IncidentFirstDue  UnitStation  \\\n",
       "LOC_Compliancy                                                              \n",
       "0               1.055869e+06  1.116486e+10        420.445083    20.520312   \n",
       "1               1.037254e+06  1.110422e+10        420.169547    20.147912   \n",
       "\n",
       "                TransportHospitalCode  Time taken (min)  Hospital_Compliancy  \\\n",
       "LOC_Compliancy                                                                 \n",
       "0                           42.511558         11.462727             0.942826   \n",
       "1                           45.128382         12.158820             0.958742   \n",
       "\n",
       "                Compliancy  \n",
       "LOC_Compliancy              \n",
       "0                 0.000000  \n",
       "1                 0.958391  "
      ]
     },
     "execution_count": 18,
     "metadata": {},
     "output_type": "execute_result"
    }
   ],
   "source": [
    "df.groupby('LOC_Compliancy').mean()"
   ]
  },
  {
   "cell_type": "code",
   "execution_count": 19,
   "metadata": {},
   "outputs": [
    {
     "data": {
      "image/png": "[encoded data removed]",
      "text/plain": [
       "<Figure size 432x288 with 1 Axes>"
      ]
     },
     "metadata": {
      "needs_background": "light"
     },
     "output_type": "display_data"
    }
   ],
   "source": [
    "%matplotlib inline\n",
    "pd.crosstab(df.LevelOfCare,df.LOC_Compliancy).plot(kind='bar')\n",
    "plt.title('Compliancy for Level of care')\n",
    "plt.xlabel('Level of Care')\n",
    "plt.ylabel('LOC Compliancy')\n",
    "plt.savefig('Compliancy with LOC')"
   ]
  },
  {
   "cell_type": "code",
   "execution_count": 20,
   "metadata": {},
   "outputs": [
    {
     "data": {
      "image/png": "[encoded data removed]",
      "text/plain": [
       "<Figure size 432x288 with 1 Axes>"
      ]
     },
     "metadata": {
      "needs_background": "light"
     },
     "output_type": "display_data"
    }
   ],
   "source": [
    "%matplotlib inline\n",
    "pd.crosstab(df.PrimaryImpression,df.LOC_Compliancy).plot(kind='bar')\n",
    "plt.title('Compliancy for Level of care')\n",
    "plt.xlabel('Primary Impressions')\n",
    "plt.ylabel('LOC Compliancy')\n",
    "plt.savefig('Compliancy with Primary Impression')"
   ]
  },
  {
   "cell_type": "code",
   "execution_count": 21,
   "metadata": {},
   "outputs": [
    {
     "data": {
      "image/png": "[encoded data removed]",
      "text/plain": [
       "<Figure size 432x288 with 1 Axes>"
      ]
     },
     "metadata": {
      "needs_background": "light"
     },
     "output_type": "display_data"
    }
   ],
   "source": [
    "%matplotlib inline\n",
    "pd.crosstab(df.PrimaryImpression,df.Hospital_Compliancy).plot(kind='bar')\n",
    "plt.title('Compliancy for Level of care')\n",
    "plt.xlabel('Primary Impressions')\n",
    "plt.ylabel('Hospital Compliancy')\n",
    "plt.savefig('Compliancy with Primary Impression')"
   ]
  },
  {
   "cell_type": "code",
   "execution_count": 22,
   "metadata": {},
   "outputs": [
    {
     "data": {
      "image/png": "[encoded data removed]",
      "text/plain": [
       "<Figure size 432x288 with 1 Axes>"
      ]
     },
     "metadata": {
      "needs_background": "light"
     },
     "output_type": "display_data"
    }
   ],
   "source": [
    "%matplotlib inline\n",
    "pd.crosstab(df.ShiftDay,df.Compliancy).plot(kind='bar')\n",
    "plt.title('Compliancy for Shift')\n",
    "plt.xlabel('Shift')\n",
    "plt.ylabel('Compliancy')\n",
    "plt.savefig('Compliancy with Shift')"
   ]
  },
  {
   "cell_type": "code",
   "execution_count": 23,
   "metadata": {},
   "outputs": [
    {
     "data": {
      "image/png": "[encoded data removed]",
      "text/plain": [
       "<Figure size 432x288 with 1 Axes>"
      ]
     },
     "metadata": {
      "needs_background": "light"
     },
     "output_type": "display_data"
    }
   ],
   "source": [
    "%matplotlib inline\n",
    "pd.crosstab(df.UnitStation,df.Compliancy).plot(kind='bar')\n",
    "plt.title('Compliancy for Station')\n",
    "plt.xlabel('Station')\n",
    "plt.ylabel('Compliancy')\n",
    "plt.savefig('Compliancy with Stataion')"
   ]
  },
  {
   "cell_type": "code",
   "execution_count": 24,
   "metadata": {},
   "outputs": [
    {
     "data": {
      "image/png": "[encoded data removed]",
      "text/plain": [
       "<Figure size 432x288 with 1 Axes>"
      ]
     },
     "metadata": {
      "needs_background": "light"
     },
     "output_type": "display_data"
    }
   ],
   "source": [
    "df.PatientAge.hist()\n",
    "plt.title('Histogram of Age')\n",
    "plt.xlabel('PatientAge')\n",
    "plt.ylabel('Frequency')\n",
    "plt.savefig('hist_age')\n",
    "plt.tight_layout()"
   ]
  },
  {
   "cell_type": "code",
   "execution_count": 25,
   "metadata": {},
   "outputs": [
    {
     "data": {
      "text/plain": [
       "Index(['PatientID', 'PrimaryKey', 'ResponseUnitID', 'TransportUnitID',\n",
       "       'Location of the Incident', 'IncidentFirstDue', 'FinalIncidentType',\n",
       "       'UnitPrimaryActionTaken', 'UnitType', 'CallConfirmedDT',\n",
       "       'UnitTransportedDT', 'UnitTransportedArrivalDT', 'UnitStation',\n",
       "       'ShiftDay', 'ReasonForChoosing', 'TransportHospitalCode',\n",
       "       'TransportHospitalName', 'PatientAge', 'PrimaryImpression',\n",
       "       'LevelOfCare', 'Time taken', 'Time taken (min)', 'Hospital_Compliancy',\n",
       "       'LOC_Compliancy', 'Time RT', 'Compliancy'],\n",
       "      dtype='object')"
      ]
     },
     "execution_count": 25,
     "metadata": {},
     "output_type": "execute_result"
    }
   ],
   "source": [
    "df.columns"
   ]
  },
  {
   "cell_type": "code",
   "execution_count": 26,
   "metadata": {},
   "outputs": [
    {
     "data": {
      "text/plain": [
       "PatientID                     int64\n",
       "PrimaryKey                  float64\n",
       "ResponseUnitID               object\n",
       "TransportUnitID              object\n",
       "Location of the Incident     object\n",
       "IncidentFirstDue            float64\n",
       "FinalIncidentType            object\n",
       "UnitPrimaryActionTaken       object\n",
       "UnitType                     object\n",
       "CallConfirmedDT              object\n",
       "UnitTransportedDT            object\n",
       "UnitTransportedArrivalDT     object\n",
       "UnitStation                   int64\n",
       "ShiftDay                     object\n",
       "ReasonForChoosing            object\n",
       "TransportHospitalCode         int64\n",
       "TransportHospitalName        object\n",
       "PatientAge                   object\n",
       "PrimaryImpression            object\n",
       "LevelOfCare                  object\n",
       "Time taken                   object\n",
       "Time taken (min)              int64\n",
       "Hospital_Compliancy           int64\n",
       "LOC_Compliancy                int64\n",
       "Time RT                      object\n",
       "Compliancy                    int64\n",
       "dtype: object"
      ]
     },
     "execution_count": 26,
     "metadata": {},
     "output_type": "execute_result"
    }
   ],
   "source": [
    "df.dtypes"
   ]
  },
  {
   "cell_type": "code",
   "execution_count": 27,
   "metadata": {},
   "outputs": [],
   "source": [
    "PrimaryImpression_Onehot = pd.get_dummies(df.PrimaryImpression, prefix='Primary Impression')"
   ]
  },
  {
   "cell_type": "code",
   "execution_count": 28,
   "metadata": {},
   "outputs": [],
   "source": [
    "LOC_Onehot = pd.get_dummies(df.LevelOfCare, prefix='Level Of Care')"
   ]
  },
  {
   "cell_type": "code",
   "execution_count": 29,
   "metadata": {},
   "outputs": [],
   "source": [
    "x = pd.concat([PrimaryImpression_Onehot, LOC_Onehot], axis=1)"
   ]
  },
  {
   "cell_type": "code",
   "execution_count": 30,
   "metadata": {},
   "outputs": [],
   "source": [
    "y = pd.to_numeric(df['LOC_Compliancy'])"
   ]
  },
  {
   "cell_type": "code",
   "execution_count": 31,
   "metadata": {},
   "outputs": [],
   "source": [
    "from sklearn.model_selection import train_test_split"
   ]
  },
  {
   "cell_type": "code",
   "execution_count": 32,
   "metadata": {},
   "outputs": [],
   "source": [
    "X_train, X_test, y_train, y_test = train_test_split(x,y,test_size=0.3)"
   ]
  },
  {
   "cell_type": "code",
   "execution_count": 33,
   "metadata": {},
   "outputs": [
    {
     "data": {
      "text/plain": [
       "84690"
      ]
     },
     "execution_count": 33,
     "metadata": {},
     "output_type": "execute_result"
    }
   ],
   "source": [
    "len(X_train)"
   ]
  },
  {
   "cell_type": "code",
   "execution_count": 34,
   "metadata": {},
   "outputs": [
    {
     "data": {
      "text/plain": [
       "36297"
      ]
     },
     "execution_count": 34,
     "metadata": {},
     "output_type": "execute_result"
    }
   ],
   "source": [
    "len(X_test)"
   ]
  },
  {
   "cell_type": "code",
   "execution_count": 35,
   "metadata": {},
   "outputs": [],
   "source": [
    "from sklearn.linear_model import LogisticRegression"
   ]
  },
  {
   "cell_type": "code",
   "execution_count": 36,
   "metadata": {},
   "outputs": [],
   "source": [
    "log_reg = LogisticRegression()"
   ]
  },
  {
   "cell_type": "code",
   "execution_count": 37,
   "metadata": {},
   "outputs": [
    {
     "name": "stderr",
     "output_type": "stream",
     "text": [
      "/Users/deepthitamma/opt/anaconda3/lib/python3.7/site-packages/sklearn/linear_model/_logistic.py:940: ConvergenceWarning: lbfgs failed to converge (status=1):\n",
      "STOP: TOTAL NO. of ITERATIONS REACHED LIMIT.\n",
      "\n",
      "Increase the number of iterations (max_iter) or scale the data as shown in:\n",
      "    https://scikit-learn.org/stable/modules/preprocessing.html\n",
      "Please also refer to the documentation for alternative solver options:\n",
      "    https://scikit-learn.org/stable/modules/linear_model.html#logistic-regression\n",
      "  extra_warning_msg=_LOGISTIC_SOLVER_CONVERGENCE_MSG)\n"
     ]
    },
    {
     "data": {
      "text/plain": [
       "LogisticRegression(C=1.0, class_weight=None, dual=False, fit_intercept=True,\n",
       "                   intercept_scaling=1, l1_ratio=None, max_iter=100,\n",
       "                   multi_class='auto', n_jobs=None, penalty='l2',\n",
       "                   random_state=None, solver='lbfgs', tol=0.0001, verbose=0,\n",
       "                   warm_start=False)"
      ]
     },
     "execution_count": 37,
     "metadata": {},
     "output_type": "execute_result"
    }
   ],
   "source": [
    "log_reg.fit(X_train,y_train)"
   ]
  },
  {
   "cell_type": "code",
   "execution_count": 38,
   "metadata": {},
   "outputs": [],
   "source": [
    "y_pred = log_reg.predict(X_test)"
   ]
  },
  {
   "cell_type": "code",
   "execution_count": 39,
   "metadata": {},
   "outputs": [
    {
     "data": {
      "text/plain": [
       "array([1, 1, 1, ..., 1, 1, 1])"
      ]
     },
     "execution_count": 39,
     "metadata": {},
     "output_type": "execute_result"
    }
   ],
   "source": [
    "y_pred"
   ]
  },
  {
   "cell_type": "code",
   "execution_count": 40,
   "metadata": {},
   "outputs": [],
   "source": [
    "total_correct = sum(y_pred == y_test)"
   ]
  },
  {
   "cell_type": "code",
   "execution_count": 41,
   "metadata": {},
   "outputs": [
    {
     "data": {
      "text/plain": [
       "36297"
      ]
     },
     "execution_count": 41,
     "metadata": {},
     "output_type": "execute_result"
    }
   ],
   "source": [
    "len(y_test)"
   ]
  },
  {
   "cell_type": "code",
   "execution_count": 42,
   "metadata": {},
   "outputs": [
    {
     "name": "stdout",
     "output_type": "stream",
     "text": [
      "0.9345124941455216\n"
     ]
    }
   ],
   "source": [
    "accuracy = total_correct/len(y_test)\n",
    "print(accuracy)"
   ]
  },
  {
   "cell_type": "code",
   "execution_count": 43,
   "metadata": {},
   "outputs": [
    {
     "name": "stderr",
     "output_type": "stream",
     "text": [
      "/Users/deepthitamma/opt/anaconda3/lib/python3.7/site-packages/sklearn/linear_model/_logistic.py:940: ConvergenceWarning: lbfgs failed to converge (status=1):\n",
      "STOP: TOTAL NO. of ITERATIONS REACHED LIMIT.\n",
      "\n",
      "Increase the number of iterations (max_iter) or scale the data as shown in:\n",
      "    https://scikit-learn.org/stable/modules/preprocessing.html\n",
      "Please also refer to the documentation for alternative solver options:\n",
      "    https://scikit-learn.org/stable/modules/linear_model.html#logistic-regression\n",
      "  extra_warning_msg=_LOGISTIC_SOLVER_CONVERGENCE_MSG)\n"
     ]
    },
    {
     "data": {
      "text/plain": [
       "LogisticRegression(C=1.0, class_weight=None, dual=False, fit_intercept=True,\n",
       "                   intercept_scaling=1, l1_ratio=None, max_iter=100,\n",
       "                   multi_class='auto', n_jobs=None, penalty='l2',\n",
       "                   random_state=None, solver='lbfgs', tol=0.0001, verbose=0,\n",
       "                   warm_start=False)"
      ]
     },
     "execution_count": 43,
     "metadata": {},
     "output_type": "execute_result"
    }
   ],
   "source": [
    "logreg = LogisticRegression()\n",
    "logreg.fit(X_train, y_train)"
   ]
  },
  {
   "cell_type": "code",
   "execution_count": 44,
   "metadata": {},
   "outputs": [
    {
     "name": "stdout",
     "output_type": "stream",
     "text": [
      "Accuracy of logistic regression classifier on test set: 0.93\n"
     ]
    }
   ],
   "source": [
    "y_pred = logreg.predict(X_test)\n",
    "print('Accuracy of logistic regression classifier on test set: {:.2f}'.format(logreg.score(X_test, y_test)))"
   ]
  },
  {
   "cell_type": "code",
   "execution_count": 45,
   "metadata": {},
   "outputs": [
    {
     "name": "stdout",
     "output_type": "stream",
     "text": [
      "[[  455  1807]\n",
      " [  570 33465]]\n"
     ]
    }
   ],
   "source": [
    "from sklearn.metrics import confusion_matrix\n",
    "confusion_matrix = confusion_matrix(y_test, y_pred)\n",
    "print(confusion_matrix)"
   ]
  },
  {
   "cell_type": "code",
   "execution_count": 46,
   "metadata": {},
   "outputs": [
    {
     "name": "stdout",
     "output_type": "stream",
     "text": [
      "              precision    recall  f1-score   support\n",
      "\n",
      "           0       0.44      0.20      0.28      2262\n",
      "           1       0.95      0.98      0.97     34035\n",
      "\n",
      "    accuracy                           0.93     36297\n",
      "   macro avg       0.70      0.59      0.62     36297\n",
      "weighted avg       0.92      0.93      0.92     36297\n",
      "\n"
     ]
    }
   ],
   "source": [
    "from sklearn.metrics import classification_report\n",
    "print(classification_report(y_test, y_pred))"
   ]
  },
  {
   "cell_type": "code",
   "execution_count": 47,
   "metadata": {},
   "outputs": [
    {
     "data": {
      "image/png": "[encoded data removed]",
      "text/plain": [
       "<Figure size 432x288 with 1 Axes>"
      ]
     },
     "metadata": {
      "needs_background": "light"
     },
     "output_type": "display_data"
    }
   ],
   "source": [
    "from sklearn.metrics import roc_auc_score\n",
    "from sklearn.metrics import roc_curve\n",
    "logit_roc_auc = roc_auc_score(y_test, logreg.predict(X_test))\n",
    "fpr, tpr, thresholds = roc_curve(y_test, logreg.predict_proba(X_test)[:,1])\n",
    "plt.figure()\n",
    "plt.plot(fpr, tpr, label='Logistic Regression (area = %0.2f)' % logit_roc_auc)\n",
    "plt.plot([0, 1], [0, 1],'r--')\n",
    "plt.xlim([0.0, 1.0])\n",
    "plt.ylim([0.0, 1.05])\n",
    "plt.xlabel('False Positive Rate')\n",
    "plt.ylabel('True Positive Rate')\n",
    "plt.title('Receiver operating characteristic')\n",
    "plt.legend(loc=\"lower right\")\n",
    "plt.savefig('Log_ROC')\n",
    "plt.show()"
   ]
  },
  {
   "cell_type": "code",
   "execution_count": null,
   "metadata": {},
   "outputs": [],
   "source": []
  },
  {
   "cell_type": "code",
   "execution_count": null,
   "metadata": {},
   "outputs": [],
   "source": []
  },
  {
   "cell_type": "code",
   "execution_count": 48,
   "metadata": {},
   "outputs": [],
   "source": [
    "from sklearn.ensemble import RandomForestClassifier"
   ]
  },
  {
   "cell_type": "code",
   "execution_count": 50,
   "metadata": {},
   "outputs": [],
   "source": [
    "TransportHospitalName_Onehot = pd.get_dummies(df.TransportHospitalName, prefix='Transport Hospital Name')"
   ]
  },
  {
   "cell_type": "code",
   "execution_count": 51,
   "metadata": {},
   "outputs": [],
   "source": [
    "X=pd.concat([PrimaryImpression_Onehot, TransportHospitalName_Onehot], axis=1)"
   ]
  },
  {
   "cell_type": "code",
   "execution_count": 52,
   "metadata": {},
   "outputs": [],
   "source": [
    "y = pd.to_numeric(df['Hospital_Compliancy'])"
   ]
  },
  {
   "cell_type": "code",
   "execution_count": 53,
   "metadata": {},
   "outputs": [],
   "source": [
    "X_train, X_test, y_train, y_test = train_test_split(x,y,test_size=0.3)"
   ]
  },
  {
   "cell_type": "code",
   "execution_count": 57,
   "metadata": {},
   "outputs": [],
   "source": [
    "model = RandomForestClassifier(n_estimators=100, \n",
    "                               bootstrap = True,\n",
    "                               max_features = 'sqrt')"
   ]
  },
  {
   "cell_type": "code",
   "execution_count": 58,
   "metadata": {},
   "outputs": [
    {
     "data": {
      "text/plain": [
       "RandomForestClassifier(bootstrap=True, ccp_alpha=0.0, class_weight=None,\n",
       "                       criterion='gini', max_depth=None, max_features='sqrt',\n",
       "                       max_leaf_nodes=None, max_samples=None,\n",
       "                       min_impurity_decrease=0.0, min_impurity_split=None,\n",
       "                       min_samples_leaf=1, min_samples_split=2,\n",
       "                       min_weight_fraction_leaf=0.0, n_estimators=100,\n",
       "                       n_jobs=None, oob_score=False, random_state=None,\n",
       "                       verbose=0, warm_start=False)"
      ]
     },
     "execution_count": 58,
     "metadata": {},
     "output_type": "execute_result"
    }
   ],
   "source": [
    "model.fit(X_train,y_train)"
   ]
  },
  {
   "cell_type": "code",
   "execution_count": 73,
   "metadata": {},
   "outputs": [
    {
     "name": "stdout",
     "output_type": "stream",
     "text": [
      "[1 1 1 ... 1 1 1]\n"
     ]
    }
   ],
   "source": [
    "y_pred=model.predict(X_test)\n",
    "print(y_pred)"
   ]
  },
  {
   "cell_type": "code",
   "execution_count": 64,
   "metadata": {},
   "outputs": [],
   "source": [
    "from sklearn import metrics"
   ]
  },
  {
   "cell_type": "code",
   "execution_count": 65,
   "metadata": {},
   "outputs": [],
   "source": [
    "rf_probs = model.predict_proba(X_test)[:, 1]"
   ]
  },
  {
   "cell_type": "code",
   "execution_count": 66,
   "metadata": {},
   "outputs": [
    {
     "data": {
      "text/plain": [
       "array([0.98937127, 0.96159673, 0.98381211, ..., 0.95508221, 0.94687121,\n",
       "       0.96490313])"
      ]
     },
     "execution_count": 66,
     "metadata": {},
     "output_type": "execute_result"
    }
   ],
   "source": [
    "rf_probs"
   ]
  },
  {
   "cell_type": "code",
   "execution_count": 70,
   "metadata": {},
   "outputs": [],
   "source": [
    "from sklearn.metrics import roc_auc_score\n",
    "\n",
    "# Calculate roc auc\n",
    "roc_value = roc_auc_score(y_test, rf_probs)"
   ]
  },
  {
   "cell_type": "code",
   "execution_count": 71,
   "metadata": {},
   "outputs": [
    {
     "data": {
      "text/plain": [
       "0.7581982160259766"
      ]
     },
     "execution_count": 71,
     "metadata": {},
     "output_type": "execute_result"
    }
   ],
   "source": [
    "roc_value"
   ]
  },
  {
   "cell_type": "code",
   "execution_count": 78,
   "metadata": {},
   "outputs": [
    {
     "name": "stdout",
     "output_type": "stream",
     "text": [
      "Accuracy of Random Forest classifier on test set: 0.96\n"
     ]
    }
   ],
   "source": [
    "print('Accuracy of Random Forest classifier on test set: {:.2f}'.format(model.score(X_test, y_test)))"
   ]
  },
  {
   "cell_type": "code",
   "execution_count": 76,
   "metadata": {},
   "outputs": [
    {
     "name": "stdout",
     "output_type": "stream",
     "text": [
      "[[   61  1424]\n",
      " [   44 34768]]\n",
      "              precision    recall  f1-score   support\n",
      "\n",
      "           0       0.58      0.04      0.08      1485\n",
      "           1       0.96      1.00      0.98     34812\n",
      "\n",
      "    accuracy                           0.96     36297\n",
      "   macro avg       0.77      0.52      0.53     36297\n",
      "weighted avg       0.95      0.96      0.94     36297\n",
      "\n",
      "0.9595558861613908\n"
     ]
    }
   ],
   "source": [
    "from sklearn.metrics import classification_report, confusion_matrix, accuracy_score\n",
    "\n",
    "print(confusion_matrix(y_test,y_pred))\n",
    "print(classification_report(y_test,y_pred))\n",
    "print(accuracy_score(y_test, y_pred))\n"
   ]
  },
  {
   "cell_type": "code",
   "execution_count": null,
   "metadata": {},
   "outputs": [],
   "source": []
  }
 ],
 "metadata": {
  "kernelspec": {
   "display_name": "Python 3",
   "language": "python",
   "name": "python3"
  },
  "language_info": {
   "codemirror_mode": {
    "name": "ipython",
    "version": 3
   },
   "file_extension": ".py",
   "mimetype": "text/x-python",
   "name": "python",
   "nbconvert_exporter": "python",
   "pygments_lexer": "ipython3",
   "version": "3.7.6"
  }
 },
 "nbformat": 4,
 "nbformat_minor": 4
}
